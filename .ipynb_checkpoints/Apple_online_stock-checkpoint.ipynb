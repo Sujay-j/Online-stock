{
 "cells": [
  {
   "cell_type": "code",
   "execution_count": 1,
   "metadata": {},
   "outputs": [],
   "source": [
    "import numpy as np\n",
    "import pandas as pd\n",
    "import matplotlib.pyplot as plt\n"
   ]
  },
  {
   "cell_type": "code",
   "execution_count": 2,
   "metadata": {},
   "outputs": [],
   "source": [
    "df = pd.read_csv('apple.csv')"
   ]
  },
  {
   "cell_type": "code",
   "execution_count": 3,
   "metadata": {},
   "outputs": [
    {
     "data": {
      "text/html": [
       "<div>\n",
       "<style scoped>\n",
       "    .dataframe tbody tr th:only-of-type {\n",
       "        vertical-align: middle;\n",
       "    }\n",
       "\n",
       "    .dataframe tbody tr th {\n",
       "        vertical-align: top;\n",
       "    }\n",
       "\n",
       "    .dataframe thead th {\n",
       "        text-align: right;\n",
       "    }\n",
       "</style>\n",
       "<table border=\"1\" class=\"dataframe\">\n",
       "  <thead>\n",
       "    <tr style=\"text-align: right;\">\n",
       "      <th></th>\n",
       "      <th>Date</th>\n",
       "      <th>Open</th>\n",
       "      <th>High</th>\n",
       "      <th>Low</th>\n",
       "      <th>Close</th>\n",
       "      <th>Volume</th>\n",
       "      <th>Dividend</th>\n",
       "      <th>Split</th>\n",
       "      <th>Adj_Open</th>\n",
       "      <th>Adj_High</th>\n",
       "      <th>Adj_Low</th>\n",
       "      <th>Adj_Close</th>\n",
       "      <th>Adj_Volume</th>\n",
       "    </tr>\n",
       "  </thead>\n",
       "  <tbody>\n",
       "    <tr>\n",
       "      <th>9477</th>\n",
       "      <td>7/16/2018</td>\n",
       "      <td>191.52</td>\n",
       "      <td>192.65</td>\n",
       "      <td>190.415</td>\n",
       "      <td>190.91</td>\n",
       "      <td>15043110</td>\n",
       "      <td>0.0</td>\n",
       "      <td>1</td>\n",
       "      <td>191.52</td>\n",
       "      <td>192.65</td>\n",
       "      <td>190.415</td>\n",
       "      <td>190.91</td>\n",
       "      <td>15043110</td>\n",
       "    </tr>\n",
       "    <tr>\n",
       "      <th>9478</th>\n",
       "      <td>7/17/2018</td>\n",
       "      <td>189.75</td>\n",
       "      <td>191.87</td>\n",
       "      <td>189.200</td>\n",
       "      <td>191.45</td>\n",
       "      <td>15534523</td>\n",
       "      <td>0.0</td>\n",
       "      <td>1</td>\n",
       "      <td>189.75</td>\n",
       "      <td>191.87</td>\n",
       "      <td>189.200</td>\n",
       "      <td>191.45</td>\n",
       "      <td>15534523</td>\n",
       "    </tr>\n",
       "    <tr>\n",
       "      <th>9479</th>\n",
       "      <td>7/18/2018</td>\n",
       "      <td>191.78</td>\n",
       "      <td>191.80</td>\n",
       "      <td>189.930</td>\n",
       "      <td>190.40</td>\n",
       "      <td>16393381</td>\n",
       "      <td>0.0</td>\n",
       "      <td>1</td>\n",
       "      <td>191.78</td>\n",
       "      <td>191.80</td>\n",
       "      <td>189.930</td>\n",
       "      <td>190.40</td>\n",
       "      <td>16393381</td>\n",
       "    </tr>\n",
       "    <tr>\n",
       "      <th>9480</th>\n",
       "      <td>7/19/2018</td>\n",
       "      <td>189.69</td>\n",
       "      <td>192.55</td>\n",
       "      <td>189.690</td>\n",
       "      <td>191.88</td>\n",
       "      <td>20286752</td>\n",
       "      <td>0.0</td>\n",
       "      <td>1</td>\n",
       "      <td>189.69</td>\n",
       "      <td>192.55</td>\n",
       "      <td>189.690</td>\n",
       "      <td>191.88</td>\n",
       "      <td>20286752</td>\n",
       "    </tr>\n",
       "    <tr>\n",
       "      <th>9481</th>\n",
       "      <td>7/20/2018</td>\n",
       "      <td>191.78</td>\n",
       "      <td>192.43</td>\n",
       "      <td>190.170</td>\n",
       "      <td>191.44</td>\n",
       "      <td>20706042</td>\n",
       "      <td>0.0</td>\n",
       "      <td>1</td>\n",
       "      <td>191.78</td>\n",
       "      <td>192.43</td>\n",
       "      <td>190.170</td>\n",
       "      <td>191.44</td>\n",
       "      <td>20706042</td>\n",
       "    </tr>\n",
       "  </tbody>\n",
       "</table>\n",
       "</div>"
      ],
      "text/plain": [
       "           Date    Open    High      Low   Close    Volume  Dividend  Split  \\\n",
       "9477  7/16/2018  191.52  192.65  190.415  190.91  15043110       0.0      1   \n",
       "9478  7/17/2018  189.75  191.87  189.200  191.45  15534523       0.0      1   \n",
       "9479  7/18/2018  191.78  191.80  189.930  190.40  16393381       0.0      1   \n",
       "9480  7/19/2018  189.69  192.55  189.690  191.88  20286752       0.0      1   \n",
       "9481  7/20/2018  191.78  192.43  190.170  191.44  20706042       0.0      1   \n",
       "\n",
       "      Adj_Open  Adj_High  Adj_Low  Adj_Close  Adj_Volume  \n",
       "9477    191.52    192.65  190.415     190.91    15043110  \n",
       "9478    189.75    191.87  189.200     191.45    15534523  \n",
       "9479    191.78    191.80  189.930     190.40    16393381  \n",
       "9480    189.69    192.55  189.690     191.88    20286752  \n",
       "9481    191.78    192.43  190.170     191.44    20706042  "
      ]
     },
     "execution_count": 3,
     "metadata": {},
     "output_type": "execute_result"
    }
   ],
   "source": [
    "df.tail()"
   ]
  },
  {
   "cell_type": "code",
   "execution_count": 4,
   "metadata": {},
   "outputs": [],
   "source": [
    "df2=df.reset_index()['Close']"
   ]
  },
  {
   "cell_type": "code",
   "execution_count": 5,
   "metadata": {},
   "outputs": [
    {
     "data": {
      "text/plain": [
       "(9482,)"
      ]
     },
     "execution_count": 5,
     "metadata": {},
     "output_type": "execute_result"
    }
   ],
   "source": [
    "df2.shape"
   ]
  },
  {
   "cell_type": "code",
   "execution_count": 6,
   "metadata": {},
   "outputs": [
    {
     "data": {
      "text/plain": [
       "[<matplotlib.lines.Line2D at 0x1cbc68babc8>]"
      ]
     },
     "execution_count": 6,
     "metadata": {},
     "output_type": "execute_result"
    },
    {
     "data": {
      "image/png": "[encoded data removed]",
      "text/plain": [
       "<Figure size 432x288 with 1 Axes>"
      ]
     },
     "metadata": {
      "needs_background": "light"
     },
     "output_type": "display_data"
    }
   ],
   "source": [
    "plt.plot(df2)"
   ]
  },
  {
   "cell_type": "code",
   "execution_count": 7,
   "metadata": {},
   "outputs": [],
   "source": [
    "from sklearn.preprocessing import MinMaxScaler\n",
    "scaler = MinMaxScaler(feature_range=(0,1))\n",
    "df2=scaler.fit_transform(np.array(df2).reshape(-1,1))"
   ]
  },
  {
   "cell_type": "code",
   "execution_count": 8,
   "metadata": {},
   "outputs": [],
   "source": [
    "training_size = int(len(df2)*0.65)\n",
    "test_size = len(df2)-training_size\n",
    "train_data,test_data = df2[0:training_size,:],df2[training_size:len(df2),:1]"
   ]
  },
  {
   "cell_type": "code",
   "execution_count": 9,
   "metadata": {},
   "outputs": [
    {
     "data": {
      "text/plain": [
       "(6163, 3319)"
      ]
     },
     "execution_count": 9,
     "metadata": {},
     "output_type": "execute_result"
    }
   ],
   "source": [
    "training_size,test_size"
   ]
  },
  {
   "cell_type": "code",
   "execution_count": 10,
   "metadata": {},
   "outputs": [
    {
     "data": {
      "text/plain": [
       "array([[0.02568369],\n",
       "       [0.02351324],\n",
       "       [0.0206193 ],\n",
       "       ...,\n",
       "       [0.0356099 ],\n",
       "       [0.03346838],\n",
       "       [0.03439444]])"
      ]
     },
     "execution_count": 10,
     "metadata": {},
     "output_type": "execute_result"
    }
   ],
   "source": [
    "train_data"
   ]
  },
  {
   "cell_type": "code",
   "execution_count": 11,
   "metadata": {},
   "outputs": [],
   "source": [
    "def create_dataset(dataset , time_step =1):\n",
    "    dataX,dataY = [],[]\n",
    "    for i in range(len(dataset)-time_step-1):\n",
    "        a=dataset[i:(i+time_step),0]\n",
    "        dataX.append(a)\n",
    "        dataY.append(dataset[i+time_step,0])\n",
    "    return np.array(dataX),np.array(dataY)"
   ]
  },
  {
   "cell_type": "code",
   "execution_count": 29,
   "metadata": {},
   "outputs": [],
   "source": [
    "time_step = 100\n",
    "x_train,y_train = create_dataset(train_data,time_step)\n",
    "x_test , Y_test = create_dataset(test_data, time_step)"
   ]
  },
  {
   "cell_type": "code",
   "execution_count": 30,
   "metadata": {},
   "outputs": [],
   "source": [
    "x_train = x_train.reshape(x_train.shape[0],x_train.shape[1],1)\n",
    "x_test =  x_test.reshape(x_test.shape[0],x_test.shape[1],1)"
   ]
  },
  {
   "cell_type": "code",
   "execution_count": 31,
   "metadata": {},
   "outputs": [],
   "source": [
    "from tensorflow.keras.models import Sequential\n",
    "from tensorflow.keras.layers import Dense\n",
    "from tensorflow.keras.layers import LSTM\n",
    "from tensorflow.keras.layers import Dropout"
   ]
  },
  {
   "cell_type": "code",
   "execution_count": 32,
   "metadata": {},
   "outputs": [
    {
     "data": {
      "text/plain": [
       "(6062, 100, 1)"
      ]
     },
     "execution_count": 32,
     "metadata": {},
     "output_type": "execute_result"
    }
   ],
   "source": [
    "x_train.shape"
   ]
  },
  {
   "cell_type": "code",
   "execution_count": 33,
   "metadata": {},
   "outputs": [],
   "source": [
    "model = Sequential()\n",
    "model.add(LSTM(100,return_sequences=True,input_shape=(100,1)))\n",
    "#model.add(LSTM(100,return_sequences=True))\n",
    "model.add(LSTM(100,return_sequences=True))\n",
    "#model.add(Dropout(0.2))\n",
    "model.add(LSTM(50))\n",
    "model.add(Dense(1))\n",
    "model.compile(loss  = 'mean_squared_error',optimizer = 'adam')"
   ]
  },
  {
   "cell_type": "code",
   "execution_count": 34,
   "metadata": {},
   "outputs": [
    {
     "name": "stdout",
     "output_type": "stream",
     "text": [
      "Model: \"sequential_3\"\n",
      "_________________________________________________________________\n",
      "Layer (type)                 Output Shape              Param #   \n",
      "=================================================================\n",
      "lstm_9 (LSTM)                (None, 100, 100)          40800     \n",
      "_________________________________________________________________\n",
      "lstm_10 (LSTM)               (None, 100, 100)          80400     \n",
      "_________________________________________________________________\n",
      "lstm_11 (LSTM)               (None, 50)                30200     \n",
      "_________________________________________________________________\n",
      "dense_3 (Dense)              (None, 1)                 51        \n",
      "=================================================================\n",
      "Total params: 151,451\n",
      "Trainable params: 151,451\n",
      "Non-trainable params: 0\n",
      "_________________________________________________________________\n"
     ]
    }
   ],
   "source": [
    "model.summary()"
   ]
  },
  {
   "cell_type": "code",
   "execution_count": 35,
   "metadata": {},
   "outputs": [
    {
     "name": "stdout",
     "output_type": "stream",
     "text": [
      "Train on 6062 samples, validate on 3218 samples\n",
      "Epoch 1/10\n",
      "6062/6062 [==============================] - 87s 14ms/sample - loss: 9.7243e-05 - acc: 1.6496e-04 - val_loss: 0.0045 - val_acc: 3.1075e-04\n",
      "Epoch 2/10\n",
      "6062/6062 [==============================] - 69s 11ms/sample - loss: 3.3293e-05 - acc: 1.6496e-04 - val_loss: 0.0015 - val_acc: 3.1075e-04\n",
      "Epoch 3/10\n",
      "6062/6062 [==============================] - 73s 12ms/sample - loss: 3.0031e-05 - acc: 1.6496e-04 - val_loss: 0.0042 - val_acc: 3.1075e-04\n",
      "Epoch 4/10\n",
      "6062/6062 [==============================] - 75s 12ms/sample - loss: 2.8640e-05 - acc: 1.6496e-04 - val_loss: 0.0027 - val_acc: 3.1075e-04\n",
      "Epoch 5/10\n",
      "6062/6062 [==============================] - 79s 13ms/sample - loss: 2.4712e-05 - acc: 1.6496e-04 - val_loss: 0.0025 - val_acc: 3.1075e-04\n",
      "Epoch 6/10\n",
      "6062/6062 [==============================] - 84s 14ms/sample - loss: 2.2373e-05 - acc: 1.6496e-04 - val_loss: 0.0012 - val_acc: 3.1075e-04\n",
      "Epoch 7/10\n",
      "6062/6062 [==============================] - 88s 14ms/sample - loss: 2.0680e-05 - acc: 1.6496e-04 - val_loss: 7.9899e-04 - val_acc: 3.1075e-04\n",
      "Epoch 8/10\n",
      "6062/6062 [==============================] - 93s 15ms/sample - loss: 2.1190e-05 - acc: 1.6496e-04 - val_loss: 7.2937e-04 - val_acc: 3.1075e-04\n",
      "Epoch 9/10\n",
      "6062/6062 [==============================] - 98s 16ms/sample - loss: 1.4698e-05 - acc: 1.6496e-04 - val_loss: 7.0801e-04 - val_acc: 3.1075e-04\n",
      "Epoch 10/10\n",
      "6062/6062 [==============================] - 101s 17ms/sample - loss: 1.4000e-05 - acc: 1.6496e-04 - val_loss: 0.0017 - val_acc: 3.1075e-04\n"
     ]
    },
    {
     "data": {
      "text/plain": [
       "<tensorflow.python.keras.callbacks.History at 0x1cdec743c08>"
      ]
     },
     "execution_count": 35,
     "metadata": {},
     "output_type": "execute_result"
    }
   ],
   "source": [
    "model.fit(x_train,y_train,validation_data = (x_test,Y_test),epochs = 10,batch_size=64,verbose=1)"
   ]
  },
  {
   "cell_type": "code",
   "execution_count": null,
   "metadata": {},
   "outputs": [],
   "source": []
  }
 ],
 "metadata": {
  "kernelspec": {
   "display_name": "Python 3",
   "language": "python",
   "name": "python3"
  },
  "language_info": {
   "codemirror_mode": {
    "name": "ipython",
    "version": 3
   },
   "file_extension": ".py",
   "mimetype": "text/x-python",
   "name": "python",
   "nbconvert_exporter": "python",
   "pygments_lexer": "ipython3",
   "version": "3.7.4"
  }
 },
 "nbformat": 4,
 "nbformat_minor": 2
}
